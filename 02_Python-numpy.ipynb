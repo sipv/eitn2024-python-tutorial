{
 "cells": [
  {
   "cell_type": "markdown",
   "id": "6b42873f-1c02-45f4-85e5-f941fbd27343",
   "metadata": {},
   "source": [
    "# Introduction to Python: Numpy and Matplotlib"
   ]
  },
  {
   "cell_type": "markdown",
   "id": "e48dbedd-c87a-48f4-8b83-e5823842d61e",
   "metadata": {},
   "source": [
    "## Standard scientific libraries in Python\n",
    "\n",
    "* Numpy: Array manipulation, functions to operate on arrays\n",
    "* Scipy: Numerical algorithms - optimization, linear algebra, integration, interpolation, FFT, ...\n",
    "* Pandas: Data manipulation and analysis; tables and data series\n",
    "* scikit-learn: Machine learning - classification, regression, clustering, dimensionality reduction\n",
    "* Visualization:\n",
    "    * Matplotlib: Visualization, (mainly) 2D plotting\n",
    "    * Seaborn: Statistical visualization, based on matplotlib\n",
    "* Deep learning: PyTorch, TensorFlow\n",
    "\n",
    "   \n",
    "All of them are designed to operate well with numpy.\n",
    "\n"
   ]
  },
  {
   "cell_type": "markdown",
   "id": "e29ddf21-74ea-418e-a20f-8ad916fcd6be",
   "metadata": {},
   "source": [
    "## Numpy basics"
   ]
  },
  {
   "cell_type": "markdown",
   "id": "cc530dae-c66c-41a3-b2f8-2b986994e8f3",
   "metadata": {},
   "source": [
    "The official quick start guide: https://numpy.org/devdocs/user/quickstart.html"
   ]
  },
  {
   "cell_type": "code",
   "execution_count": null,
   "id": "c84b366b-3c6f-4122-a595-d4a6b0856d94",
   "metadata": {},
   "outputs": [],
   "source": [
    "import numpy as np"
   ]
  },
  {
   "cell_type": "code",
   "execution_count": null,
   "id": "9250a5f3-1bc9-412d-bfe1-6324aa4c4616",
   "metadata": {},
   "outputs": [],
   "source": [
    "a = np.array([[9, 4, 2, -1],[-1, 4, 7, 3]])"
   ]
  },
  {
   "cell_type": "markdown",
   "id": "b32e5899-9d54-4fb2-affd-8d1a32ebe6d6",
   "metadata": {},
   "source": [
    "\\\n",
    "Each array has a dimension, a shape, and a type."
   ]
  },
  {
   "cell_type": "code",
   "execution_count": null,
   "id": "9c62ddcc-a4e1-40a2-b94b-26c3243025c4",
   "metadata": {},
   "outputs": [],
   "source": [
    "a.ndim, a.shape, a.dtype"
   ]
  },
  {
   "cell_type": "markdown",
   "id": "52b5f0ca-0d1e-4206-ad89-c7d0ec92a88b",
   "metadata": {},
   "source": [
    "\\\n",
    "Arrays can be created, indexed, sliced."
   ]
  },
  {
   "cell_type": "code",
   "execution_count": null,
   "id": "c2c9f4b6-2e26-44cf-bd88-5844c9301613",
   "metadata": {},
   "outputs": [],
   "source": [
    "np.random.seed(42)\n",
    "\n",
    "a = np.zeros((8,3), dtype=float)\n",
    "b = np.random.uniform(-10, 10, (8,3))\n",
    "c = np.arange(3)\n",
    "\n",
    "print(b[0,0])\n",
    "print(b[1,:])\n",
    "print(b[2:5,:])"
   ]
  },
  {
   "cell_type": "markdown",
   "id": "06c7732c-2730-4f65-9206-067638a06dce",
   "metadata": {},
   "source": [
    "\\\n",
    "Element-wise mathematical operations can be performed on arrays given that they dimensions match (following *broadcasting* rules). Logical operations can be performed elementwise."
   ]
  },
  {
   "cell_type": "code",
   "execution_count": null,
   "id": "c6fbbfbe-f54c-40bf-be46-256744bfc8d3",
   "metadata": {},
   "outputs": [],
   "source": [
    "d = a + b\n",
    "e = np.sin(b) * np.exp(c)\n",
    "f = (e > d) | (e < 0.)     # or np.logical_or((e > d), (e < 0.))\n",
    "\n",
    "print(f.shape)\n",
    "print(f.dtype)\n",
    "print(f)"
   ]
  },
  {
   "cell_type": "markdown",
   "id": "2ef3d442-1e3f-4c21-b682-5d918f9c2dde",
   "metadata": {},
   "source": [
    "\\\n",
    "Minimum, maximum, means: for the whole array or for specific axis."
   ]
  },
  {
   "cell_type": "code",
   "execution_count": null,
   "id": "48934db7-5a3f-4d47-a579-95ce3577f744",
   "metadata": {},
   "outputs": [],
   "source": [
    "print(e.shape)\n",
    "\n",
    "print(\"Sum: \", np.sum(e))\n",
    "print(\"Minimum: \", np.min(e))\n",
    "print(\"Max across zeroth axis: \", np.max(e, axis=0))\n",
    "print(\"Mean across first axis: \", np.mean(e, axis=1))"
   ]
  },
  {
   "cell_type": "markdown",
   "id": "4692c0c8-cc7c-4c1c-8315-8d3e5bd489c7",
   "metadata": {},
   "source": [
    "\\\n",
    "Vector and matrix operations - dot product, outer product, matrix multiplication:"
   ]
  },
  {
   "cell_type": "code",
   "execution_count": null,
   "id": "97938526-32c7-4f1e-878e-cf95517371a5",
   "metadata": {},
   "outputs": [],
   "source": [
    "b.shape, c.shape, d.shape"
   ]
  },
  {
   "cell_type": "code",
   "execution_count": null,
   "id": "9a35a66f-35e7-4f8b-90bd-eac00c0b6f92",
   "metadata": {},
   "outputs": [],
   "source": [
    "np.dot(c, b[0])"
   ]
  },
  {
   "cell_type": "code",
   "execution_count": null,
   "id": "d61dd4f2-e4e1-4ad1-9686-27ee392023f1",
   "metadata": {},
   "outputs": [],
   "source": [
    "np.outer(c, b[0])"
   ]
  },
  {
   "cell_type": "code",
   "execution_count": null,
   "id": "90a74367-eabb-48bd-912f-c8309dd504bc",
   "metadata": {},
   "outputs": [],
   "source": [
    "np.matmul(b.T, d)"
   ]
  },
  {
   "cell_type": "markdown",
   "id": "8c1cb80f-65b7-4b44-beef-d3f11086a44e",
   "metadata": {},
   "source": [
    "##  Matplotlib basics"
   ]
  },
  {
   "cell_type": "markdown",
   "id": "c5e62cfd-8ffc-4efc-a5a1-5d75dd61b510",
   "metadata": {},
   "source": [
    "The official quick start guide: https://matplotlib.org/stable/users/explain/quick_start.html"
   ]
  },
  {
   "cell_type": "code",
   "execution_count": null,
   "id": "511c40e7-4967-4a99-b52a-b54455470012",
   "metadata": {},
   "outputs": [],
   "source": [
    "import matplotlib.pyplot as plt\n",
    "%matplotlib inline"
   ]
  },
  {
   "cell_type": "code",
   "execution_count": null,
   "id": "a3ddb94a-24b6-4a63-982a-f975c96f4b7e",
   "metadata": {},
   "outputs": [],
   "source": [
    "x1 = np.array([0, 1, 3, 6, 8, 9, 10])\n",
    "y1 = np.array([4, 5, -1, 0, 3, 7, 9])\n",
    "\n",
    "x2 = np.array([0, 4, 5, 6, 7, 8, 10])\n",
    "y2 = np.array([-3, 7, 2, 3, 0, 0, -6])\n",
    "\n",
    "plt.figure()\n",
    "plt.plot(x1, y1)\n",
    "plt.plot(x2, y2)\n",
    "\n",
    "plt.xlabel(\"x axis\")\n",
    "plt.ylabel(\"y axis\")"
   ]
  },
  {
   "cell_type": "markdown",
   "id": "8e776002-7a48-4e82-a2f5-0d9982365a9d",
   "metadata": {},
   "source": [
    "## Example: Euler method for solving Ordinary Differential Equations"
   ]
  },
  {
   "cell_type": "markdown",
   "id": "a2949bdd-0214-4043-8265-8470137cb047",
   "metadata": {},
   "source": [
    "Lotka-Volterra equations model the predator-prey dynamics:\n",
    "\n",
    "$$x' = a x - b x y$$ \n",
    "$$y' = d x y - c y$$\n",
    "\n",
    "The population of prey $x$ increases proportionally to its size, and decreases proportionally to the frequency of encounters of predator and prey. The population of predators $y$ decreases proportionally to its size, and increases proportionally to the frequency of encounters with prey.\n",
    "\n",
    "We solve the equations with explicit Euler method\n",
    "$$\n",
    "\\vec{x}_{n+1} = \\vec{x}_{n} + \\Delta t f(\\vec{x}_{n})\n",
    "$$\n",
    "where $\\vec{x} = (x, y)$, $\\Delta t$ is the time step, and $f(\\vec{x})$ is the right hand side of the ODE."
   ]
  },
  {
   "cell_type": "code",
   "execution_count": null,
   "id": "31b84890-e9d8-48b0-ba92-a074f663e090",
   "metadata": {},
   "outputs": [],
   "source": [
    "T = 200.\n",
    "dt = 0.1\n",
    "nt = int(T/dt)\n",
    "t = np.linspace(0, T, nt+1)\n",
    "\n",
    "x = np.zeros((nt+1, 2))\n",
    "\n",
    "# Initial conditions\n",
    "x[0,:] = [100., 100.]\n",
    "\n",
    "# Model constants\n",
    "a = 0.1\n",
    "b = 0.002\n",
    "c = 0.2\n",
    "d = 0.0025\n",
    "\n",
    "for i in range(0, nt):\n",
    "    x[i+1,0] = x[i,0] + dt*(a*x[i,0] - b*x[i,0]*x[i,1])\n",
    "    x[i+1,1] = x[i,1] + dt*(d*x[i,0]*x[i,1] - c*x[i,1])"
   ]
  },
  {
   "cell_type": "code",
   "execution_count": null,
   "id": "f50dea7b-eb08-4c7b-b987-672a43075c10",
   "metadata": {},
   "outputs": [],
   "source": [
    "plt.figure()\n",
    "plt.plot(t, x[:,0], label=\"Prey\")\n",
    "plt.plot(t, x[:,1], label=\"Predator\")\n",
    "\n",
    "plt.xlabel(\"Time\")\n",
    "plt.ylabel(\"Number of animals\")\n",
    "plt.legend()"
   ]
  },
  {
   "cell_type": "code",
   "execution_count": null,
   "id": "c8124111-d2c1-4135-adf5-991e89819be3",
   "metadata": {},
   "outputs": [],
   "source": [
    "plt.figure(figsize=(5,5))\n",
    "plt.plot(x[:,0], x[:,1])\n",
    "\n",
    "plt.xlabel(\"Prey\")\n",
    "plt.ylabel(\"Predator\")"
   ]
  },
  {
   "cell_type": "markdown",
   "id": "c463ffc0-1539-47a4-b14f-a49cc7ffec99",
   "metadata": {},
   "source": [
    "### And now the same with scipy"
   ]
  },
  {
   "cell_type": "code",
   "execution_count": null,
   "id": "72c06087-c70b-4a8b-9f27-5fbdae253286",
   "metadata": {},
   "outputs": [],
   "source": [
    "import scipy.integrate"
   ]
  },
  {
   "cell_type": "code",
   "execution_count": null,
   "id": "c93919e2-2885-410b-a808-97ccd9ba3e93",
   "metadata": {},
   "outputs": [],
   "source": [
    "def fun(t, x):\n",
    "    a = 0.1\n",
    "    b = 0.002\n",
    "    c = 0.2\n",
    "    d = 0.0025\n",
    "    \n",
    "    return (a*x[0] - b*x[0]*x[1], d*x[0]*x[1] - c*x[1])\n",
    "\n",
    "T = 200.\n",
    "nt = 1000\n",
    "t = np.linspace(0, T, nt+1)\n",
    "res = scipy.integrate.solve_ivp(fun, (0,T), (100., 100.), t_eval=t, method='RK45')\n",
    "xb = res.y.T"
   ]
  },
  {
   "cell_type": "code",
   "execution_count": null,
   "id": "0fda0d88-fd7e-4eb4-8393-1a2f9fc72f3c",
   "metadata": {},
   "outputs": [],
   "source": [
    "plt.figure()\n",
    "plt.plot(t, xb[:,0])\n",
    "plt.plot(t, xb[:,1])\n",
    "\n",
    "plt.xlabel(\"Prey\")\n",
    "plt.ylabel(\"Predator\")"
   ]
  },
  {
   "cell_type": "code",
   "execution_count": null,
   "id": "d6faceb8-2a4e-4f23-ae0e-09da4c801486",
   "metadata": {},
   "outputs": [],
   "source": [
    "plt.figure(figsize=(5,5))\n",
    "plt.plot(x[:,0], x[:,1], label=\"Handcoded, Euler\")\n",
    "plt.plot(xb[:,0], xb[:,1], label=\"Using scipy, RK45\")\n",
    "\n",
    "plt.xlabel(\"Prey\")\n",
    "plt.ylabel(\"Predator\")\n",
    "plt.legend(loc='upper right')"
   ]
  },
  {
   "cell_type": "markdown",
   "id": "d5ace4be-04d3-42a8-8df2-074ad37bee92",
   "metadata": {
    "tags": []
   },
   "source": [
    "## Example: Linear regression"
   ]
  },
  {
   "cell_type": "markdown",
   "id": "843e6f00-49bd-4022-8221-b000d674f1d3",
   "metadata": {},
   "source": [
    "Let us generate some random data first."
   ]
  },
  {
   "cell_type": "code",
   "execution_count": null,
   "id": "0f9c2ac3-fa2c-433e-8951-b8497072b40f",
   "metadata": {},
   "outputs": [],
   "source": [
    "np.random.seed(42)\n",
    "x = np.random.normal(5, 3, 100)\n",
    "\n",
    "a = 0.21\n",
    "b = 1.34\n",
    "y = a + b*x + np.random.normal(0, 3, x.shape)"
   ]
  },
  {
   "cell_type": "markdown",
   "id": "4a9646c6-b036-4464-ad13-2196f26d8b23",
   "metadata": {},
   "source": [
    "\\\n",
    "Now pretend we know nothing about the origins of the data."
   ]
  },
  {
   "cell_type": "code",
   "execution_count": null,
   "id": "a266c749-8b0f-4ef7-8df6-57294b8270a2",
   "metadata": {},
   "outputs": [],
   "source": [
    "x.shape, y.shape"
   ]
  },
  {
   "cell_type": "code",
   "execution_count": null,
   "id": "0ef137e9-20bc-4ee0-ad54-54dd0d9d893a",
   "metadata": {},
   "outputs": [],
   "source": [
    "plt.figure()\n",
    "plt.scatter(x, y)"
   ]
  },
  {
   "cell_type": "markdown",
   "id": "6125bc49-c744-4272-8034-e6b900c5864d",
   "metadata": {},
   "source": [
    "Linear regression tries to estimate the linear relation between $x$ and $y$: $y_i = a + b x_i + \\epsilon_i$ with Gaussian noise $\\epsilon_i$.\n",
    "\n",
    "The formula for simple linear regression is then\n",
    "$$b_{est} = \\frac{\\sum_{i=1}^n (x_i - \\bar{x})(y_i - \\bar{y})}{\\sum_{i=1}^{n} (x_i - \\bar{x})^2}$$\n",
    "\n",
    "$$a_{est} = \\bar{y} - b_{est} \\bar{x}$$\n",
    "\n",
    "With $\\bar{x}$ and $\\bar{y}$ being the means of $x_i$ and $y_i$ respectively.\n"
   ]
  },
  {
   "cell_type": "code",
   "execution_count": null,
   "id": "c574a9b5-85fc-45e9-863a-33435b8a5dbb",
   "metadata": {},
   "outputs": [],
   "source": [
    "b_est = np.sum((x - np.mean(x)) * (y - np.mean(y))) / np.sum((x - np.mean(x))**2)\n",
    "a_est = np.mean(y) - b_est*np.mean(x)\n",
    "\n",
    "a_est, b_est"
   ]
  },
  {
   "cell_type": "code",
   "execution_count": null,
   "id": "316d6711-5a82-4dea-8d41-f5c3ac57ea85",
   "metadata": {},
   "outputs": [],
   "source": [
    "plt.figure()\n",
    "plt.scatter(x, y)\n",
    "\n",
    "xv = np.linspace(-3, 11, 2)\n",
    "plt.plot(xv, a_est + b_est*xv, color='r')"
   ]
  }
 ],
 "metadata": {
  "kernelspec": {
   "display_name": "Python 3 (ipykernel)",
   "language": "python",
   "name": "python3"
  },
  "language_info": {
   "codemirror_mode": {
    "name": "ipython",
    "version": 3
   },
   "file_extension": ".py",
   "mimetype": "text/x-python",
   "name": "python",
   "nbconvert_exporter": "python",
   "pygments_lexer": "ipython3",
   "version": "3.8.13"
  }
 },
 "nbformat": 4,
 "nbformat_minor": 5
}
