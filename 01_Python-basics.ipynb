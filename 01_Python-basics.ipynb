{
 "cells": [
  {
   "cell_type": "markdown",
   "id": "918ef5c8-9f6a-4c16-aa56-9717f4269365",
   "metadata": {},
   "source": [
    "# Introduction to Python: Basics"
   ]
  },
  {
   "cell_type": "markdown",
   "id": "1d3f996b-6072-47e4-9db3-0c0ce056900b",
   "metadata": {},
   "source": [
    "## Ways of running Python"
   ]
  },
  {
   "cell_type": "markdown",
   "id": "08d04058-6a6a-4042-9fd4-c53b0948e5ac",
   "metadata": {},
   "source": [
    "* Running Python scripts\n",
    "* Python or IPython console\n",
    "* Jupyter notebook\n",
    "\n",
    "All this can be done locally or on Ebrains.\n",
    "\n",
    "There is also range of IDEs for Python development: Spyder, PyCharm, VS Code, ..."
   ]
  },
  {
   "cell_type": "markdown",
   "id": "1de9e4a9-ee48-4617-91e4-7134f2b1087c",
   "metadata": {},
   "source": [
    "## Installing Python locally"
   ]
  },
  {
   "cell_type": "markdown",
   "id": "b5f5b7b0-2cb6-494c-8ece-bd31d6a83e6b",
   "metadata": {},
   "source": [
    "One of the simpler ways to install Python and together with its package manager conda is using Miniconda: https://docs.anaconda.com/miniconda/. Download the installer for your system, and follow the instructions there.\n",
    "\n",
    "The package manager conda will allow you to create separate environments with different package versions, depending on the needs of each of your projects. New environments can created and managed following the guide here: https://docs.anaconda.com/working-with-conda/environments/."
   ]
  },
  {
   "cell_type": "markdown",
   "id": "85d9047c-c288-42d8-9e28-36301fa2d874",
   "metadata": {},
   "source": [
    "## Using Ebrains lab"
   ]
  },
  {
   "cell_type": "markdown",
   "id": "0253d4c8-77df-4d46-859a-0e6df4e1b8b7",
   "metadata": {},
   "source": [
    "Login to https://lab.ebrains.eu/, select execution site (recommended Jülich Supercomputing Center (JSC)), navigate to the desired directoty (under drive/My Libraries), and open a new notebook."
   ]
  },
  {
   "cell_type": "markdown",
   "id": "61f7c53e-7f5b-4919-9067-0476510f27be",
   "metadata": {},
   "source": [
    "## Basics of Python"
   ]
  },
  {
   "cell_type": "markdown",
   "id": "42251193-7b35-41ca-9313-76799b94e078",
   "metadata": {},
   "source": [
    "### Data types and variables"
   ]
  },
  {
   "cell_type": "markdown",
   "id": "1878e5ca-22ad-42a0-ba4b-b6528633b38e",
   "metadata": {},
   "source": [
    "The basic data types are integer, float, bool, and string."
   ]
  },
  {
   "cell_type": "code",
   "execution_count": null,
   "id": "fdb2df7c-5041-4d45-9f2e-cb28afe112d1",
   "metadata": {},
   "outputs": [],
   "source": [
    "a = 4\n",
    "b = 1.2\n",
    "c = True\n",
    "d = \"This is a string\""
   ]
  },
  {
   "cell_type": "markdown",
   "id": "c23c7d34-7653-40e6-84f0-c22fec0ed2fb",
   "metadata": {},
   "source": [
    "\\\n",
    "Shift-enter executes a cell."
   ]
  },
  {
   "cell_type": "code",
   "execution_count": null,
   "id": "44008fc0-30ed-4d62-bd87-d9df91008206",
   "metadata": {},
   "outputs": [],
   "source": [
    "print(a)"
   ]
  },
  {
   "cell_type": "code",
   "execution_count": null,
   "id": "93b7871e-967e-473b-9ee7-76e853f61905",
   "metadata": {},
   "outputs": [],
   "source": [
    "d"
   ]
  },
  {
   "cell_type": "code",
   "execution_count": null,
   "id": "c6a8fc9c-62f1-4f16-ae65-fb37428eeb23",
   "metadata": {},
   "outputs": [],
   "source": [
    "type(b)"
   ]
  },
  {
   "cell_type": "markdown",
   "id": "48173528-39ee-45f0-9bda-063c466d8473",
   "metadata": {},
   "source": [
    "\\\n",
    "Different data types are automatically converted where reasonable:"
   ]
  },
  {
   "cell_type": "code",
   "execution_count": null,
   "id": "8cef87f9-a0c6-4b20-9c72-be0aae38934d",
   "metadata": {},
   "outputs": [],
   "source": [
    "a + b"
   ]
  },
  {
   "cell_type": "code",
   "execution_count": null,
   "id": "d86bdf56-d046-4255-8b2a-ca7b4def0846",
   "metadata": {},
   "outputs": [],
   "source": [
    "c, int(c)"
   ]
  },
  {
   "cell_type": "code",
   "execution_count": null,
   "id": "4b76a170-b8e8-4b0c-abd5-0b82e03d20aa",
   "metadata": {},
   "outputs": [],
   "source": [
    "a + d"
   ]
  },
  {
   "cell_type": "markdown",
   "id": "289e6dab-86e6-4713-9038-5b9f48852189",
   "metadata": {},
   "source": [
    "## Basic data structures"
   ]
  },
  {
   "cell_type": "markdown",
   "id": "5b93c2a7-780e-4001-8b56-298303383792",
   "metadata": {},
   "source": [
    "\\\n",
    "**List** is an ordered collection of items."
   ]
  },
  {
   "cell_type": "code",
   "execution_count": null,
   "id": "ba148299-9001-4d27-9b5e-ffcc45c49c34",
   "metadata": {},
   "outputs": [],
   "source": [
    "a = [2, 3, -1, 4]"
   ]
  },
  {
   "cell_type": "code",
   "execution_count": null,
   "id": "53b2ffaa-7de8-4104-8578-44afed75ef4f",
   "metadata": {},
   "outputs": [],
   "source": [
    "a[0], a[1:3], a[-1]"
   ]
  },
  {
   "cell_type": "markdown",
   "id": "80092ce2-f6b8-43ec-a4ce-8fa0f0f7433b",
   "metadata": {},
   "source": [
    "\\\n",
    "Anything can be put in the list (but not often there is a good reason to do that):"
   ]
  },
  {
   "cell_type": "code",
   "execution_count": null,
   "id": "aedf1695-4b92-4b66-bb2b-c47f557de526",
   "metadata": {},
   "outputs": [],
   "source": [
    "b = [\"Anything\", -8.2, True, a]"
   ]
  },
  {
   "cell_type": "markdown",
   "id": "7926da6e-f73e-4cdf-b1ed-2a0ab5afab38",
   "metadata": {},
   "source": [
    "\\\n",
    "Lists can be modified:"
   ]
  },
  {
   "cell_type": "code",
   "execution_count": null,
   "id": "60508060-693e-4bf1-b05d-324d890722b1",
   "metadata": {},
   "outputs": [],
   "source": [
    "a.append(1)\n",
    "a.extend([2,5,8])\n",
    "a"
   ]
  },
  {
   "cell_type": "markdown",
   "id": "23363997-c747-4715-90ab-06269ddb2bcb",
   "metadata": {},
   "source": [
    "\\\n",
    "**Tuple** is an ordered unchangeable collection. "
   ]
  },
  {
   "cell_type": "code",
   "execution_count": null,
   "id": "d3a26d1d-466a-4d22-8156-03e582ea69d2",
   "metadata": {},
   "outputs": [],
   "source": [
    "c = (\"Alice\", 36)"
   ]
  },
  {
   "cell_type": "code",
   "execution_count": null,
   "id": "468e5a27-d5e1-44f9-b738-e765cd1e087b",
   "metadata": {},
   "outputs": [],
   "source": [
    "c[1]"
   ]
  },
  {
   "cell_type": "code",
   "execution_count": null,
   "id": "993e1d16-a658-4caa-babe-5f486ed9bce7",
   "metadata": {},
   "outputs": [],
   "source": [
    "c[1] = \"37\""
   ]
  },
  {
   "cell_type": "code",
   "execution_count": null,
   "id": "354ab31e-ba52-4080-a9c4-0b3030dd74f0",
   "metadata": {},
   "outputs": [],
   "source": [
    "# Implicit tuple\n",
    "0, 1, 3"
   ]
  },
  {
   "cell_type": "markdown",
   "id": "69d2dfda-a1d1-49c9-b1de-04e8cd88f196",
   "metadata": {},
   "source": [
    "\\\n",
    "**Dictionary** holds key-value pairs."
   ]
  },
  {
   "cell_type": "code",
   "execution_count": null,
   "id": "c66fa341-6ec8-4829-b3c8-260d187e17a2",
   "metadata": {},
   "outputs": [],
   "source": [
    "people = {'Alice': 36, 'Bob': 16, 'Charlie': 48}"
   ]
  },
  {
   "cell_type": "code",
   "execution_count": null,
   "id": "e7553bb3-1feb-4171-aa13-29f53f52ed36",
   "metadata": {},
   "outputs": [],
   "source": [
    "people['Bob']"
   ]
  },
  {
   "cell_type": "code",
   "execution_count": null,
   "id": "95df05a0-51b9-443e-b2c2-118c86979d7c",
   "metadata": {},
   "outputs": [],
   "source": [
    "people['Charlie'] += 1\n",
    "people['David'] = 0\n",
    "\n",
    "people"
   ]
  },
  {
   "cell_type": "markdown",
   "id": "96815fe7-b8f3-4ec8-8d85-7a177fdc7776",
   "metadata": {},
   "source": [
    "\\\n",
    "**Set** is an unordered collection of unique items."
   ]
  },
  {
   "cell_type": "code",
   "execution_count": null,
   "id": "5c896aa8-e51c-47cf-aeec-eca76c51e8e0",
   "metadata": {},
   "outputs": [],
   "source": [
    "fruits = {'apple', 'pear', 'orange', 'apple'}\n",
    "fruits"
   ]
  },
  {
   "cell_type": "markdown",
   "id": "5ab7a974-9eea-42d8-b02c-aedaa943cfcb",
   "metadata": {},
   "source": [
    "## Conditionals and loops"
   ]
  },
  {
   "cell_type": "code",
   "execution_count": null,
   "id": "22dcc244-ad80-4eec-94e3-34b895ff07dc",
   "metadata": {},
   "outputs": [],
   "source": [
    "a = 13\n",
    "b = 7\n",
    "\n",
    "if a > b:\n",
    "    print(\"a is greater than b\")\n",
    "elif a < b:\n",
    "    print(\"b is greater than a\")\n",
    "else:\n",
    "    print(\"a is equal to b\")"
   ]
  },
  {
   "cell_type": "markdown",
   "id": "517963a4-b5dd-4b31-9d61-a37a41bf861f",
   "metadata": {},
   "source": [
    "\\\n",
    "Anything that evaluates to bool can be used in conditionals:"
   ]
  },
  {
   "cell_type": "code",
   "execution_count": null,
   "id": "7e5cb974-eaac-408e-96ee-43ef0a3ef4a1",
   "metadata": {},
   "outputs": [],
   "source": [
    "people = {'Alice': 36, 'Bob': 16, 'Clara': 48}\n",
    "\n",
    "name = 'Bob'\n",
    "if name in people:\n",
    "    print(people[name])    "
   ]
  },
  {
   "cell_type": "markdown",
   "id": "c3c5dd2e-12e1-4538-86b7-ba0bb6d32c65",
   "metadata": {},
   "source": [
    "\\\n",
    "**For** and **while** loops:"
   ]
  },
  {
   "cell_type": "code",
   "execution_count": null,
   "id": "0cb2c8e7-e6f2-4f0a-ac5e-25f345799938",
   "metadata": {},
   "outputs": [],
   "source": [
    "# Sum of squares from 1 to 10\n",
    "\n",
    "total = 0\n",
    "for i in range(1, 11):\n",
    "    total += i**2\n",
    "    \n",
    "total"
   ]
  },
  {
   "cell_type": "code",
   "execution_count": null,
   "id": "6c4aafe7-e077-48cf-b742-a763e4bab739",
   "metadata": {},
   "outputs": [],
   "source": [
    "# Elements of Fibonnaci sequence smaller than 100\n",
    "\n",
    "i, j = 1, 1\n",
    "print(i, end=' ')\n",
    "\n",
    "while j < 100:\n",
    "    print(j, end=' ')\n",
    "    i, j = j, i+j\n"
   ]
  },
  {
   "cell_type": "markdown",
   "id": "256e887a-405d-4a22-8e9e-4c0c95c4fed3",
   "metadata": {},
   "source": [
    "\\\n",
    "**List comprehension** allows to use for loops and conditionals inside a list declaration."
   ]
  },
  {
   "cell_type": "code",
   "execution_count": null,
   "id": "f4b26067-0c2d-4ab6-bcf6-b3328f452b7c",
   "metadata": {},
   "outputs": [],
   "source": [
    "# Same sum as above, but simpler\n",
    "\n",
    "squares = [i**2 for i in range(1, 11)]\n",
    "sum(squares)"
   ]
  },
  {
   "cell_type": "code",
   "execution_count": null,
   "id": "a74575a9-8519-4ea3-8157-79b10889e21d",
   "metadata": {},
   "outputs": [],
   "source": [
    "people = {'Alice': 36, 'Bob': 16, 'Clara': 48, 'David': 0}\n",
    "\n",
    "under18 = [name for name, age in people.items() if age < 18]\n",
    "under18"
   ]
  },
  {
   "cell_type": "markdown",
   "id": "57ec6b6e-b873-43a6-ae00-6795c404be6c",
   "metadata": {},
   "source": [
    "## Functions"
   ]
  },
  {
   "cell_type": "code",
   "execution_count": null,
   "id": "18a8b996-3356-4be1-8c77-44e1eb4bef51",
   "metadata": {},
   "outputs": [],
   "source": [
    "def sum_of_squares(ifrom, ito):\n",
    "    squares = [i**2 for i in range(ifrom, ito+1)]\n",
    "    return sum(squares)\n",
    "\n",
    "result = sum_of_squares(1, 10)\n",
    "result"
   ]
  },
  {
   "cell_type": "code",
   "execution_count": null,
   "id": "f031bf19-30fc-4a6b-a002-7132d25f3d31",
   "metadata": {},
   "outputs": [],
   "source": [
    "people = {'Alice': 36, 'Bob': 16, 'Clara': 48, 'David': 0}\n",
    "\n",
    "def youngest(name_age_dict):\n",
    "    min_age = min(name_age_dict.values())\n",
    "    names = [name for name, age in name_age_dict.items() if age == min_age]\n",
    "    return names\n",
    "\n",
    "youngest(people)"
   ]
  },
  {
   "cell_type": "markdown",
   "id": "209e6098-f35d-4a7d-b8bf-a11885cf4ca2",
   "metadata": {},
   "source": [
    "\\\n",
    "Functions can modify its arguments:"
   ]
  },
  {
   "cell_type": "code",
   "execution_count": null,
   "id": "c7423033-944c-427c-9f74-581c9990bafd",
   "metadata": {},
   "outputs": [],
   "source": [
    "def add_one_year_to_everyone(name_age_dict):\n",
    "    for name in name_age_dict.keys():\n",
    "        name_age_dict[name] += 1\n",
    "\n",
    "    \n",
    "print(people)\n",
    "add_one_year_to_everyone(people)\n",
    "print(people)"
   ]
  },
  {
   "cell_type": "markdown",
   "id": "0098dc7c-6a48-45ee-9d18-3816afb5a809",
   "metadata": {},
   "source": [
    "\\\n",
    "Functions can have default arguments:"
   ]
  },
  {
   "cell_type": "code",
   "execution_count": null,
   "id": "ab7a4557-3d33-4972-92b9-75c482eb6da0",
   "metadata": {},
   "outputs": [],
   "source": [
    "def add_years_to_everyone(name_age_dict, years=1):\n",
    "    for name in name_age_dict.keys():\n",
    "        name_age_dict[name] += years\n",
    "        \n",
    "add_years_to_everyone(people, 10)\n",
    "print(people)"
   ]
  },
  {
   "cell_type": "markdown",
   "id": "f98f5e42-087b-4454-a8c1-e1bdd66cebb1",
   "metadata": {
    "tags": []
   },
   "source": [
    "## Modules"
   ]
  },
  {
   "cell_type": "markdown",
   "id": "48e9c7f8-e847-4e98-a9af-2a0120e9d55d",
   "metadata": {},
   "source": [
    "Python standard library contains many handy modules which can be imported. For example, `time`, unsurprisingly, contains several functions related to time measuring."
   ]
  },
  {
   "cell_type": "code",
   "execution_count": null,
   "id": "955049ec-a70e-4751-ba39-e37da273a4fb",
   "metadata": {},
   "outputs": [],
   "source": [
    "import time"
   ]
  },
  {
   "cell_type": "code",
   "execution_count": null,
   "id": "04bcdfc2-97cc-4bf5-9764-15524e36de80",
   "metadata": {},
   "outputs": [],
   "source": [
    "time.ctime()"
   ]
  },
  {
   "cell_type": "markdown",
   "id": "d8a37346-7ab7-48b3-a6a0-df5b58dbf835",
   "metadata": {},
   "source": [
    "Let us check how long takes the calculation of pi using the Leibniz formula,\n",
    "$$\\frac{\\pi}{4} = \\sum_{k=0}^{\\infty} \\frac{(-1)^k}{2k + 1}$$"
   ]
  },
  {
   "cell_type": "code",
   "execution_count": null,
   "id": "63c68460-2d03-4cf9-abdf-1cf57fcba989",
   "metadata": {},
   "outputs": [],
   "source": [
    "t1 = time.time()\n",
    "\n",
    "# Leibniz formula for pi\n",
    "approx_pi = 4 * sum((-1)**k/(2*k+1) for k in range(0,100000))\n",
    "\n",
    "t2 = time.time()\n",
    "\n",
    "print(\"Approximated pi: \", approx_pi)\n",
    "print(\"Time to calculate: \", t2 - t1, \"s\")"
   ]
  },
  {
   "cell_type": "markdown",
   "id": "aa820640-4219-4ef5-a708-2e90ff6eff37",
   "metadata": {},
   "source": [
    "\\\n",
    "`collections` contains several data containers beyond standard list, tuple, dict, and set. Objects from a module can be also imported directly."
   ]
  },
  {
   "cell_type": "code",
   "execution_count": null,
   "id": "9fc78248-e7fd-42b2-b3fb-9a8350d86c96",
   "metadata": {},
   "outputs": [],
   "source": [
    "from collections import Counter"
   ]
  },
  {
   "cell_type": "code",
   "execution_count": null,
   "id": "e3295d21-bb90-43f0-9f8c-0a809d1adb34",
   "metadata": {},
   "outputs": [],
   "source": [
    "counter = Counter(['a', 'b', 'c', 'a', 'b', 'b'])\n",
    "print(counter)\n",
    "\n",
    "counter.update(['a', 'a', 'c', 'd'])\n",
    "print(counter)"
   ]
  },
  {
   "cell_type": "markdown",
   "id": "6ec53cae-481b-4e6a-a49d-37b1f4ef68dd",
   "metadata": {},
   "source": [
    "\\\n",
    "We can also create our module. Most simply, we can move our defined functions to a separate file (e.g. `utils.py` in the same folder) and import it. This way, we can keep the notebook cleaner, and functions reusable."
   ]
  },
  {
   "cell_type": "code",
   "execution_count": null,
   "id": "c2ec7f9a-b301-4875-bbdd-b3f3cf3d4446",
   "metadata": {},
   "outputs": [],
   "source": [
    "import utils"
   ]
  },
  {
   "cell_type": "code",
   "execution_count": null,
   "id": "48ba2803-2e8e-4c73-a6fb-2ed7af332f68",
   "metadata": {},
   "outputs": [],
   "source": [
    "people = {'Alice': 36, 'Bob': 16, 'Clara': 48, 'David': 0}\n",
    "\n",
    "utils.youngest(people), utils.oldest(people)"
   ]
  }
 ],
 "metadata": {
  "kernelspec": {
   "display_name": "Python 3 (ipykernel)",
   "language": "python",
   "name": "python3"
  },
  "language_info": {
   "codemirror_mode": {
    "name": "ipython",
    "version": 3
   },
   "file_extension": ".py",
   "mimetype": "text/x-python",
   "name": "python",
   "nbconvert_exporter": "python",
   "pygments_lexer": "ipython3",
   "version": "3.9.20"
  }
 },
 "nbformat": 4,
 "nbformat_minor": 5
}
