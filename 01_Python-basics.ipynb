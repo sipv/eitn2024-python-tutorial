{
 "cells": [
  {
   "cell_type": "markdown",
   "id": "918ef5c8-9f6a-4c16-aa56-9717f4269365",
   "metadata": {},
   "source": [
    "# Introduction to Python: Basics"
   ]
  },
  {
   "cell_type": "markdown",
   "id": "1d3f996b-6072-47e4-9db3-0c0ce056900b",
   "metadata": {},
   "source": [
    "## Ways of running Python"
   ]
  },
  {
   "cell_type": "markdown",
   "id": "08d04058-6a6a-4042-9fd4-c53b0948e5ac",
   "metadata": {},
   "source": [
    "* Running Python scripts\n",
    "* Python or IPython console\n",
    "* Jupyter notebook\n",
    "\n",
    "All this can be done locally or on Ebrains."
   ]
  },
  {
   "cell_type": "markdown",
   "id": "61f7c53e-7f5b-4919-9067-0476510f27be",
   "metadata": {},
   "source": [
    "## Basics of Python"
   ]
  },
  {
   "cell_type": "markdown",
   "id": "42251193-7b35-41ca-9313-76799b94e078",
   "metadata": {},
   "source": [
    "### Data types and variables"
   ]
  },
  {
   "cell_type": "markdown",
   "id": "1878e5ca-22ad-42a0-ba4b-b6528633b38e",
   "metadata": {},
   "source": [
    "The basic data types are integer, float, bool, and string."
   ]
  },
  {
   "cell_type": "code",
   "execution_count": 45,
   "id": "fdb2df7c-5041-4d45-9f2e-cb28afe112d1",
   "metadata": {},
   "outputs": [],
   "source": [
    "a = 4\n",
    "b = 1.2\n",
    "c = True\n",
    "d = \"This is a string\""
   ]
  },
  {
   "cell_type": "code",
   "execution_count": 46,
   "id": "44008fc0-30ed-4d62-bd87-d9df91008206",
   "metadata": {},
   "outputs": [
    {
     "name": "stdout",
     "output_type": "stream",
     "text": [
      "4\n"
     ]
    }
   ],
   "source": [
    "print(a)"
   ]
  },
  {
   "cell_type": "code",
   "execution_count": 47,
   "id": "93b7871e-967e-473b-9ee7-76e853f61905",
   "metadata": {},
   "outputs": [
    {
     "data": {
      "text/plain": [
       "'This is a string'"
      ]
     },
     "execution_count": 47,
     "metadata": {},
     "output_type": "execute_result"
    }
   ],
   "source": [
    "d"
   ]
  },
  {
   "cell_type": "code",
   "execution_count": 48,
   "id": "c6a8fc9c-62f1-4f16-ae65-fb37428eeb23",
   "metadata": {},
   "outputs": [
    {
     "data": {
      "text/plain": [
       "float"
      ]
     },
     "execution_count": 48,
     "metadata": {},
     "output_type": "execute_result"
    }
   ],
   "source": [
    "type(b)"
   ]
  },
  {
   "cell_type": "markdown",
   "id": "48173528-39ee-45f0-9bda-063c466d8473",
   "metadata": {},
   "source": [
    "Different data types are automatically converted where reasonable:"
   ]
  },
  {
   "cell_type": "code",
   "execution_count": 49,
   "id": "8cef87f9-a0c6-4b20-9c72-be0aae38934d",
   "metadata": {},
   "outputs": [
    {
     "data": {
      "text/plain": [
       "5.2"
      ]
     },
     "execution_count": 49,
     "metadata": {},
     "output_type": "execute_result"
    }
   ],
   "source": [
    "a + b"
   ]
  },
  {
   "cell_type": "code",
   "execution_count": 50,
   "id": "d86bdf56-d046-4255-8b2a-ca7b4def0846",
   "metadata": {},
   "outputs": [
    {
     "data": {
      "text/plain": [
       "6.2"
      ]
     },
     "execution_count": 50,
     "metadata": {},
     "output_type": "execute_result"
    }
   ],
   "source": [
    "a + b + c"
   ]
  },
  {
   "cell_type": "markdown",
   "id": "289e6dab-86e6-4713-9038-5b9f48852189",
   "metadata": {},
   "source": [
    "## Basic data structures"
   ]
  },
  {
   "cell_type": "markdown",
   "id": "5b93c2a7-780e-4001-8b56-298303383792",
   "metadata": {},
   "source": [
    "**List** is an ordered collection of items."
   ]
  },
  {
   "cell_type": "code",
   "execution_count": 31,
   "id": "ba148299-9001-4d27-9b5e-ffcc45c49c34",
   "metadata": {},
   "outputs": [],
   "source": [
    "a = [2, 3, -1, 4]"
   ]
  },
  {
   "cell_type": "code",
   "execution_count": 32,
   "id": "53b2ffaa-7de8-4104-8578-44afed75ef4f",
   "metadata": {},
   "outputs": [
    {
     "data": {
      "text/plain": [
       "(2, [3, -1], 4)"
      ]
     },
     "execution_count": 32,
     "metadata": {},
     "output_type": "execute_result"
    }
   ],
   "source": [
    "a[0], a[1:3], a[-1]"
   ]
  },
  {
   "cell_type": "markdown",
   "id": "80092ce2-f6b8-43ec-a4ce-8fa0f0f7433b",
   "metadata": {},
   "source": [
    "Anything can be put in the list (but not often there is a good reason to do that):"
   ]
  },
  {
   "cell_type": "code",
   "execution_count": 40,
   "id": "aedf1695-4b92-4b66-bb2b-c47f557de526",
   "metadata": {},
   "outputs": [],
   "source": [
    "b = [\"Anything\", -8.2, True, a]"
   ]
  },
  {
   "cell_type": "markdown",
   "id": "7926da6e-f73e-4cdf-b1ed-2a0ab5afab38",
   "metadata": {},
   "source": [
    "Lists can be modified:"
   ]
  },
  {
   "cell_type": "code",
   "execution_count": 34,
   "id": "60508060-693e-4bf1-b05d-324d890722b1",
   "metadata": {},
   "outputs": [
    {
     "data": {
      "text/plain": [
       "[2, 3, -1, 4, 1, 2, 5, 8]"
      ]
     },
     "execution_count": 34,
     "metadata": {},
     "output_type": "execute_result"
    }
   ],
   "source": [
    "a.append(1)\n",
    "a.extend([2,5,8])\n",
    "a"
   ]
  },
  {
   "cell_type": "markdown",
   "id": "23363997-c747-4715-90ab-06269ddb2bcb",
   "metadata": {},
   "source": [
    "**Tuple** is an ordered unchangeable collection. "
   ]
  },
  {
   "cell_type": "code",
   "execution_count": 35,
   "id": "d3a26d1d-466a-4d22-8156-03e582ea69d2",
   "metadata": {},
   "outputs": [],
   "source": [
    "c = (\"Alice\", 36)"
   ]
  },
  {
   "cell_type": "code",
   "execution_count": 41,
   "id": "354ab31e-ba52-4080-a9c4-0b3030dd74f0",
   "metadata": {},
   "outputs": [
    {
     "data": {
      "text/plain": [
       "(0, 1, 3)"
      ]
     },
     "execution_count": 41,
     "metadata": {},
     "output_type": "execute_result"
    }
   ],
   "source": [
    "# Implicit tuple\n",
    "0, 1, 3"
   ]
  },
  {
   "cell_type": "markdown",
   "id": "69d2dfda-a1d1-49c9-b1de-04e8cd88f196",
   "metadata": {},
   "source": [
    "**Dictionary** holds key-value pairs."
   ]
  },
  {
   "cell_type": "code",
   "execution_count": 54,
   "id": "c66fa341-6ec8-4829-b3c8-260d187e17a2",
   "metadata": {},
   "outputs": [],
   "source": [
    "ages = {'Alice': 36, 'Bob': 16, 'Charlie': 48}"
   ]
  },
  {
   "cell_type": "code",
   "execution_count": 55,
   "id": "e7553bb3-1feb-4171-aa13-29f53f52ed36",
   "metadata": {},
   "outputs": [
    {
     "data": {
      "text/plain": [
       "16"
      ]
     },
     "execution_count": 55,
     "metadata": {},
     "output_type": "execute_result"
    }
   ],
   "source": [
    "ages['Bob']"
   ]
  },
  {
   "cell_type": "code",
   "execution_count": 81,
   "id": "95df05a0-51b9-443e-b2c2-118c86979d7c",
   "metadata": {},
   "outputs": [
    {
     "data": {
      "text/plain": [
       "{'Alice': 36, 'Bob': 16, 'Charlie': 50, 'David': 0}"
      ]
     },
     "execution_count": 81,
     "metadata": {},
     "output_type": "execute_result"
    }
   ],
   "source": [
    "ages['Charlie'] += 1\n",
    "ages['David'] = 0\n",
    "\n",
    "ages"
   ]
  },
  {
   "cell_type": "markdown",
   "id": "96815fe7-b8f3-4ec8-8d85-7a177fdc7776",
   "metadata": {},
   "source": [
    "**Set** is an unordered collection of unique items."
   ]
  },
  {
   "cell_type": "code",
   "execution_count": 58,
   "id": "5c896aa8-e51c-47cf-aeec-eca76c51e8e0",
   "metadata": {},
   "outputs": [
    {
     "data": {
      "text/plain": [
       "{'apple', 'orange', 'pear'}"
      ]
     },
     "execution_count": 58,
     "metadata": {},
     "output_type": "execute_result"
    }
   ],
   "source": [
    "fruits = {'apple', 'pear', 'orange', 'apple'}\n",
    "fruits"
   ]
  },
  {
   "cell_type": "markdown",
   "id": "5ab7a974-9eea-42d8-b02c-aedaa943cfcb",
   "metadata": {},
   "source": [
    "## Conditionals and loops"
   ]
  },
  {
   "cell_type": "code",
   "execution_count": 52,
   "id": "22dcc244-ad80-4eec-94e3-34b895ff07dc",
   "metadata": {},
   "outputs": [
    {
     "name": "stdout",
     "output_type": "stream",
     "text": [
      "a is greater than b\n"
     ]
    }
   ],
   "source": [
    "a = 13\n",
    "b = 7\n",
    "\n",
    "if a > b:\n",
    "    print(\"a is greater than b\")\n",
    "elif a < b:\n",
    "    print(\"b is greater than a\")\n",
    "else:\n",
    "    print(\"a is equal to b\")"
   ]
  },
  {
   "cell_type": "markdown",
   "id": "517963a4-b5dd-4b31-9d61-a37a41bf861f",
   "metadata": {},
   "source": [
    "Anything that evaluates to bool can be used in conditionals:"
   ]
  },
  {
   "cell_type": "code",
   "execution_count": 92,
   "id": "7e5cb974-eaac-408e-96ee-43ef0a3ef4a1",
   "metadata": {},
   "outputs": [
    {
     "name": "stdout",
     "output_type": "stream",
     "text": [
      "16\n"
     ]
    }
   ],
   "source": [
    "ages = {'Alice': 36, 'Bob': 16, 'Clara': 48}\n",
    "\n",
    "name = 'Bob'\n",
    "if name in ages:\n",
    "    print(ages[name])    "
   ]
  },
  {
   "cell_type": "markdown",
   "id": "c3c5dd2e-12e1-4538-86b7-ba0bb6d32c65",
   "metadata": {},
   "source": [
    "**For** and **while** loops:"
   ]
  },
  {
   "cell_type": "code",
   "execution_count": 72,
   "id": "0cb2c8e7-e6f2-4f0a-ac5e-25f345799938",
   "metadata": {},
   "outputs": [
    {
     "data": {
      "text/plain": [
       "385"
      ]
     },
     "execution_count": 72,
     "metadata": {},
     "output_type": "execute_result"
    }
   ],
   "source": [
    "# sum of squares from 1 to 10\n",
    "\n",
    "total = 0\n",
    "for i in range(1, 11):\n",
    "    total += i**2\n",
    "    \n",
    "total"
   ]
  },
  {
   "cell_type": "code",
   "execution_count": 75,
   "id": "6c4aafe7-e077-48cf-b742-a763e4bab739",
   "metadata": {},
   "outputs": [
    {
     "name": "stdout",
     "output_type": "stream",
     "text": [
      "1 1 2 3 5 8 13 21 34 55 89 "
     ]
    }
   ],
   "source": [
    "# Elements of Fibonnaci sequence smaller than 100\n",
    "\n",
    "i, j = 1, 1\n",
    "print(i, end=' ')\n",
    "\n",
    "while j < 100:\n",
    "    print(j, end=' ')\n",
    "    i, j = j, i+j\n"
   ]
  },
  {
   "cell_type": "markdown",
   "id": "256e887a-405d-4a22-8e9e-4c0c95c4fed3",
   "metadata": {},
   "source": [
    "**List comprehension** allows to use for loops and conditionals inside a list declaration."
   ]
  },
  {
   "cell_type": "code",
   "execution_count": 94,
   "id": "f4b26067-0c2d-4ab6-bcf6-b3328f452b7c",
   "metadata": {},
   "outputs": [
    {
     "data": {
      "text/plain": [
       "385"
      ]
     },
     "execution_count": 94,
     "metadata": {},
     "output_type": "execute_result"
    }
   ],
   "source": [
    "# Same sum as above, but simpler\n",
    "squares = [i**2 for i in range(1, 11)]\n",
    "sum(squares)"
   ]
  },
  {
   "cell_type": "code",
   "execution_count": 93,
   "id": "a74575a9-8519-4ea3-8157-79b10889e21d",
   "metadata": {},
   "outputs": [
    {
     "data": {
      "text/plain": [
       "['Bob', 'David']"
      ]
     },
     "execution_count": 93,
     "metadata": {},
     "output_type": "execute_result"
    }
   ],
   "source": [
    "ages = {'Alice': 36, 'Bob': 16, 'Clara': 48, 'David': 0}\n",
    "\n",
    "under18 = [name for name, age in ages.items() if age < 18]\n",
    "under18"
   ]
  },
  {
   "cell_type": "markdown",
   "id": "57ec6b6e-b873-43a6-ae00-6795c404be6c",
   "metadata": {},
   "source": [
    "## Functions"
   ]
  },
  {
   "cell_type": "code",
   "execution_count": 95,
   "id": "18a8b996-3356-4be1-8c77-44e1eb4bef51",
   "metadata": {},
   "outputs": [
    {
     "data": {
      "text/plain": [
       "385"
      ]
     },
     "execution_count": 95,
     "metadata": {},
     "output_type": "execute_result"
    }
   ],
   "source": [
    "def sum_of_squares(ifrom, ito):\n",
    "    return sum([i**2 for i in range(ifrom, ito+1)])\n",
    "\n",
    "sum_of_squares(1, 10)"
   ]
  },
  {
   "cell_type": "code",
   "execution_count": 26,
   "id": "f031bf19-30fc-4a6b-a002-7132d25f3d31",
   "metadata": {},
   "outputs": [
    {
     "data": {
      "text/plain": [
       "['David']"
      ]
     },
     "execution_count": 26,
     "metadata": {},
     "output_type": "execute_result"
    }
   ],
   "source": [
    "ages = {'Alice': 36, 'Bob': 16, 'Clara': 48, 'David': 0}\n",
    "\n",
    "def youngest(ages):\n",
    "    min_age = min(ages.values())\n",
    "    names = [name for name, age in ages.items() if age == min_age]\n",
    "    return names\n",
    "\n",
    "youngest(ages)"
   ]
  },
  {
   "cell_type": "markdown",
   "id": "209e6098-f35d-4a7d-b8bf-a11885cf4ca2",
   "metadata": {},
   "source": [
    "Functions can modify its arguments:"
   ]
  },
  {
   "cell_type": "code",
   "execution_count": 27,
   "id": "c7423033-944c-427c-9f74-581c9990bafd",
   "metadata": {},
   "outputs": [
    {
     "name": "stdout",
     "output_type": "stream",
     "text": [
      "{'Alice': 36, 'Bob': 16, 'Clara': 48, 'David': 0}\n",
      "{'Alice': 37, 'Bob': 17, 'Clara': 49, 'David': 1}\n"
     ]
    }
   ],
   "source": [
    "def add_one_year_to_everyone(ages):\n",
    "    for name in ages.keys():\n",
    "        ages[name] += 1\n",
    "    \n",
    "print(ages)\n",
    "add_one_year_to_everyone(ages)\n",
    "print(ages)"
   ]
  },
  {
   "cell_type": "markdown",
   "id": "0098dc7c-6a48-45ee-9d18-3816afb5a809",
   "metadata": {},
   "source": [
    "Functions can have default arguments:"
   ]
  },
  {
   "cell_type": "code",
   "execution_count": 28,
   "id": "ab7a4557-3d33-4972-92b9-75c482eb6da0",
   "metadata": {},
   "outputs": [
    {
     "name": "stdout",
     "output_type": "stream",
     "text": [
      "{'Alice': 47, 'Bob': 27, 'Clara': 59, 'David': 11}\n"
     ]
    }
   ],
   "source": [
    "def add_years_to_everyone(ages, years=1):\n",
    "    for name in ages.keys():\n",
    "        ages[name] += years\n",
    "        \n",
    "add_years_to_everyone(ages, 10)\n",
    "print(ages)"
   ]
  },
  {
   "cell_type": "code",
   "execution_count": null,
   "id": "1c2adca0-d4a3-473e-b008-c38a085e88ef",
   "metadata": {},
   "outputs": [],
   "source": []
  },
  {
   "cell_type": "code",
   "execution_count": null,
   "id": "068157f0-8902-4942-87e0-727fa5f99b1a",
   "metadata": {},
   "outputs": [],
   "source": []
  },
  {
   "cell_type": "markdown",
   "id": "f98f5e42-087b-4454-a8c1-e1bdd66cebb1",
   "metadata": {
    "tags": []
   },
   "source": [
    "## Modules"
   ]
  },
  {
   "cell_type": "markdown",
   "id": "48e9c7f8-e847-4e98-a9af-2a0120e9d55d",
   "metadata": {},
   "source": [
    "Python standard library contains many handy modules which can be imported. For example, `time`, unsurprisingly, contains several functions related to time measuring."
   ]
  },
  {
   "cell_type": "code",
   "execution_count": 30,
   "id": "955049ec-a70e-4751-ba39-e37da273a4fb",
   "metadata": {},
   "outputs": [],
   "source": [
    "import time"
   ]
  },
  {
   "cell_type": "code",
   "execution_count": 31,
   "id": "04bcdfc2-97cc-4bf5-9764-15524e36de80",
   "metadata": {},
   "outputs": [
    {
     "data": {
      "text/plain": [
       "'Fri Oct 11 19:17:42 2024'"
      ]
     },
     "execution_count": 31,
     "metadata": {},
     "output_type": "execute_result"
    }
   ],
   "source": [
    "time.ctime()"
   ]
  },
  {
   "cell_type": "code",
   "execution_count": 43,
   "id": "63c68460-2d03-4cf9-abdf-1cf57fcba989",
   "metadata": {},
   "outputs": [
    {
     "name": "stdout",
     "output_type": "stream",
     "text": [
      "Approximated pi:  3.1415916535897743\n",
      "Time to calculate:  0.34434008598327637 s\n"
     ]
    }
   ],
   "source": [
    "t1 = time.time()\n",
    "\n",
    "# Leibniz formula for pi\n",
    "approx_pi = 4 * sum((-1)**k/(2*k+1) for k in range(0,1000000))\n",
    "\n",
    "t2 = time.time()\n",
    "\n",
    "print(\"Approximated pi: \", approx_pi)\n",
    "print(\"Time to calculate: \", t2 - t1, \"s\")"
   ]
  },
  {
   "cell_type": "code",
   "execution_count": null,
   "id": "8dd374c6-9d83-4169-9651-03d8f7c103a8",
   "metadata": {},
   "outputs": [],
   "source": []
  },
  {
   "cell_type": "markdown",
   "id": "aa820640-4219-4ef5-a708-2e90ff6eff37",
   "metadata": {},
   "source": [
    "\n",
    "\n",
    "`collections` contains several data containers beyond standard list, tuple, dict, and set. Objects from a module can be also imported directly."
   ]
  },
  {
   "cell_type": "code",
   "execution_count": 119,
   "id": "9fc78248-e7fd-42b2-b3fb-9a8350d86c96",
   "metadata": {},
   "outputs": [],
   "source": [
    "from collections import Counter"
   ]
  },
  {
   "cell_type": "code",
   "execution_count": 120,
   "id": "e3295d21-bb90-43f0-9f8c-0a809d1adb34",
   "metadata": {},
   "outputs": [
    {
     "name": "stdout",
     "output_type": "stream",
     "text": [
      "Counter({'b': 3, 'a': 2, 'c': 1})\n",
      "Counter({'a': 4, 'b': 3, 'c': 2, 'd': 1})\n"
     ]
    }
   ],
   "source": [
    "counter = Counter(['a', 'b', 'c', 'a', 'b', 'b'])\n",
    "print(counter)\n",
    "\n",
    "counter.update(['a', 'a', 'c', 'd'])\n",
    "print(counter)"
   ]
  },
  {
   "cell_type": "markdown",
   "id": "6ec53cae-481b-4e6a-a49d-37b1f4ef68dd",
   "metadata": {},
   "source": [
    "We can also create our module. Most simply, we can move our defined functions to a separate file (e.g. `utils.py` in the same folder) and import it. This way, we can keep the notebook cleaner, and functions reusable."
   ]
  },
  {
   "cell_type": "code",
   "execution_count": 13,
   "id": "c2ec7f9a-b301-4875-bbdd-b3f3cf3d4446",
   "metadata": {},
   "outputs": [],
   "source": [
    "import utils"
   ]
  },
  {
   "cell_type": "code",
   "execution_count": 16,
   "id": "48ba2803-2e8e-4c73-a6fb-2ed7af332f68",
   "metadata": {},
   "outputs": [
    {
     "data": {
      "text/plain": [
       "(['David'], ['Clara'])"
      ]
     },
     "execution_count": 16,
     "metadata": {},
     "output_type": "execute_result"
    }
   ],
   "source": [
    "ages = {'Alice': 36, 'Bob': 16, 'Clara': 48, 'David': 0}\n",
    "\n",
    "utils.youngest(ages), utils.oldest(ages)"
   ]
  }
 ],
 "metadata": {
  "kernelspec": {
   "display_name": "Python 3 (ipykernel)",
   "language": "python",
   "name": "python3"
  },
  "language_info": {
   "codemirror_mode": {
    "name": "ipython",
    "version": 3
   },
   "file_extension": ".py",
   "mimetype": "text/x-python",
   "name": "python",
   "nbconvert_exporter": "python",
   "pygments_lexer": "ipython3",
   "version": "3.8.10"
  }
 },
 "nbformat": 4,
 "nbformat_minor": 5
}
